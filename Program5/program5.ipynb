{
 "cells": [
  {
   "cell_type": "markdown",
   "metadata": {},
   "source": [
    "Maximum matching segmentation algorithm for text"
   ]
  },
  {
   "cell_type": "code",
   "execution_count": 1,
   "metadata": {},
   "outputs": [
    {
     "name": "stderr",
     "output_type": "stream",
     "text": [
      "[nltk_data] Downloading package words to\n",
      "[nltk_data]     C:\\Users\\91720\\AppData\\Roaming\\nltk_data...\n",
      "[nltk_data]   Package words is already up-to-date!\n"
     ]
    },
    {
     "data": {
      "text/plain": [
       "True"
      ]
     },
     "execution_count": 1,
     "metadata": {},
     "output_type": "execute_result"
    }
   ],
   "source": [
    "import nltk\n",
    "nltk.download('words')"
   ]
  },
  {
   "cell_type": "code",
   "execution_count": 2,
   "metadata": {},
   "outputs": [],
   "source": [
    "text = \"In the realm of technological innovation, artificial intelligence stands as a beacon, revolutionizing industries and challenging preconceptions. The intricate dance between algorithms and data propels us into an era where smart devices anticipate our needs.\""
   ]
  },
  {
   "cell_type": "code",
   "execution_count": 3,
   "metadata": {},
   "outputs": [
    {
     "data": {
      "text/plain": [
       "'intherealmoftechnologicalinnovationartificialintelligencestandsasabeaconrevolutionizingindustriesandchallengingpreconceptionstheintricatedancebetweenalgorithmsanddatapropelsusintoanerawheresmartdevicesanticipateourneeds'"
      ]
     },
     "execution_count": 3,
     "metadata": {},
     "output_type": "execute_result"
    }
   ],
   "source": [
    "text = text.lower()\n",
    "text = text.replace(' ', '')\n",
    "text = text.replace(',', '')\n",
    "text = text.replace('.', '')\n",
    "text"
   ]
  },
  {
   "cell_type": "code",
   "execution_count": 4,
   "metadata": {},
   "outputs": [
    {
     "name": "stdout",
     "output_type": "stream",
     "text": [
      "['in', 'there', 'al', 'mo', 'f', 'technological', 'innovation', 'artificial', 'intelligence', 'stand', 'sasa', 'beacon', 'revolution', 'i', 'zing', 'indus', 'tri', 'es', 'and', 'chal', 'len', 'ging', 'preconception', 'st', 'hein', 'trica', 'teda', 'n', 'ce', 'between', 'algorithm', 'sand', 'data', 'prop', 'els', 'us', 'into', 'an', 'era', 'where', 'smart', 'device', 'sant', 'i', 'c', 'i', 'pate', 'our', 'needs']\n"
     ]
    }
   ],
   "source": [
    "from nltk.corpus import words\n",
    "\n",
    "tokens = []\n",
    "lowercaseCorpus = [x.lower() for x in words.words()]\n",
    "i = 0\n",
    "while i < len(text):\n",
    "    maxWord = \"\"\n",
    "    for j in range(i, len(text)):\n",
    "        tempWord = text[i:j+1]\n",
    "        if tempWord in lowercaseCorpus and len(tempWord) > len(maxWord):\n",
    "            maxWord = tempWord\n",
    "    i = i+len(maxWord)\n",
    "    tokens.append(maxWord)\n",
    "\n",
    "print(tokens)"
   ]
  },
  {
   "cell_type": "code",
   "execution_count": null,
   "metadata": {},
   "outputs": [],
   "source": []
  }
 ],
 "metadata": {
  "kernelspec": {
   "display_name": "Python 3",
   "language": "python",
   "name": "python3"
  },
  "language_info": {
   "codemirror_mode": {
    "name": "ipython",
    "version": 3
   },
   "file_extension": ".py",
   "mimetype": "text/x-python",
   "name": "python",
   "nbconvert_exporter": "python",
   "pygments_lexer": "ipython3",
   "version": "3.9.13"
  }
 },
 "nbformat": 4,
 "nbformat_minor": 2
}
